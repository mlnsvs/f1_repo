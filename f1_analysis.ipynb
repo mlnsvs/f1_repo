{
 "cells": [
  {
   "cell_type": "code",
   "execution_count": 7,
   "id": "6601db47-9336-4b3e-a790-41c7ca8e9f41",
   "metadata": {},
   "outputs": [],
   "source": [
    "# importing modules\n",
    "import pandas as pd\n",
    "import matplotlib.pyplot as plt"
   ]
  },
  {
   "cell_type": "code",
   "execution_count": 19,
   "id": "e2530ead-ed33-441f-97b5-4d8dc5ece12a",
   "metadata": {},
   "outputs": [
    {
     "name": "stdout",
     "output_type": "stream",
     "text": [
      "                   team  championships  wins  podiums  points_scored  \\\n",
      "0      Brawn GP F1 Team              1     8       15            448   \n",
      "1      Caterham F1 Team              0     0        0              0   \n",
      "2   Force India F1 Team              0     0        1            359   \n",
      "3  Honda Racing F1 Team              0     1        3            302   \n",
      "4           HRT F1 Team              0     0        0              0   \n",
      "\n",
      "   pole_positions  fastest_laps  races  seasons  \n",
      "0               5             4     17        1  \n",
      "1               0             0     39        2  \n",
      "2               1             1    112        6  \n",
      "3               1             0     53        3  \n",
      "4               0             0     58        3  \n",
      "<class 'pandas.core.frame.DataFrame'>\n",
      "RangeIndex: 21 entries, 0 to 20\n",
      "Data columns (total 9 columns):\n",
      " #   Column          Non-Null Count  Dtype \n",
      "---  ------          --------------  ----- \n",
      " 0   team            21 non-null     object\n",
      " 1   championships   21 non-null     int64 \n",
      " 2   wins            21 non-null     int64 \n",
      " 3   podiums         21 non-null     int64 \n",
      " 4   points_scored   21 non-null     int64 \n",
      " 5   pole_positions  21 non-null     int64 \n",
      " 6   fastest_laps    21 non-null     int64 \n",
      " 7   races           21 non-null     int64 \n",
      " 8   seasons         21 non-null     int64 \n",
      "dtypes: int64(8), object(1)\n",
      "memory usage: 1.6+ KB\n",
      "None\n",
      "       championships     wins     podiums  points_scored  pole_positions  \\\n",
      "count      21.000000  21.0000   21.000000      21.000000        21.00000   \n",
      "mean        0.380952   7.0000   21.000000     701.714286         7.00000   \n",
      "std         0.973457  14.0748   37.776977     997.106270        14.60137   \n",
      "min         0.000000   0.0000    0.000000       0.000000         0.00000   \n",
      "25%         0.000000   0.0000    0.000000       3.000000         0.00000   \n",
      "50%         0.000000   1.0000    3.000000     359.000000         1.00000   \n",
      "75%         0.000000   4.0000   21.000000     881.000000         5.00000   \n",
      "max         4.000000  47.0000  131.000000    3130.000000        57.00000   \n",
      "\n",
      "       fastest_laps       races    seasons  \n",
      "count     21.000000   21.000000  21.000000  \n",
      "mean       7.000000   78.285714   4.238095  \n",
      "std       13.740451   51.007983   2.791142  \n",
      "min        0.000000   17.000000   1.000000  \n",
      "25%        0.000000   39.000000   2.000000  \n",
      "50%        1.000000   58.000000   3.000000  \n",
      "75%        4.000000  147.000000   8.000000  \n",
      "max       45.000000  147.000000   8.000000  \n"
     ]
    }
   ],
   "source": [
    "# creating data frame, f1 data from 2006 to 2013\n",
    "f1 = pd.read_csv(\"f1_data.csv\")\n",
    "# dropping columns rank\n",
    "f1 = f1.drop(columns=[\"RANK\"])\n",
    "# renaming columns\n",
    "f1 = f1.rename(columns={\"TITLE\": \"team\", \"CHAMPIONSHIPS\": \"championships\", \"WIN\": \"wins\", \"PODIUM\": \"podiums\", \"POINTS SCORED\": \"points_scored\", \"POLE POSITION\": \"pole_positions\", \"FASTEST LAP\": \"fastest_laps\", \"RACE ENTRY\": \"races\", \"SEASONS\": \"seasons\"}, errors=\"raise\")\n",
    "# check f1 data frame and \n",
    "print(f1.head())"
   ]
  },
  {
   "cell_type": "code",
   "execution_count": 20,
   "id": "4f3fa15e-f8de-43b1-985a-393d515eb84d",
   "metadata": {},
   "outputs": [
    {
     "name": "stdout",
     "output_type": "stream",
     "text": [
      "<class 'pandas.core.frame.DataFrame'>\n",
      "RangeIndex: 21 entries, 0 to 20\n",
      "Data columns (total 9 columns):\n",
      " #   Column          Non-Null Count  Dtype \n",
      "---  ------          --------------  ----- \n",
      " 0   team            21 non-null     object\n",
      " 1   championships   21 non-null     int64 \n",
      " 2   wins            21 non-null     int64 \n",
      " 3   podiums         21 non-null     int64 \n",
      " 4   points_scored   21 non-null     int64 \n",
      " 5   pole_positions  21 non-null     int64 \n",
      " 6   fastest_laps    21 non-null     int64 \n",
      " 7   races           21 non-null     int64 \n",
      " 8   seasons         21 non-null     int64 \n",
      "dtypes: int64(8), object(1)\n",
      "memory usage: 1.6+ KB\n",
      "None\n"
     ]
    }
   ],
   "source": [
    "print(f1.info())"
   ]
  },
  {
   "cell_type": "code",
   "execution_count": 21,
   "id": "99f3691f-c4e8-482d-97f8-468c3c49c472",
   "metadata": {},
   "outputs": [
    {
     "name": "stdout",
     "output_type": "stream",
     "text": [
      "       championships     wins     podiums  points_scored  pole_positions  \\\n",
      "count      21.000000  21.0000   21.000000      21.000000        21.00000   \n",
      "mean        0.380952   7.0000   21.000000     701.714286         7.00000   \n",
      "std         0.973457  14.0748   37.776977     997.106270        14.60137   \n",
      "min         0.000000   0.0000    0.000000       0.000000         0.00000   \n",
      "25%         0.000000   0.0000    0.000000       3.000000         0.00000   \n",
      "50%         0.000000   1.0000    3.000000     359.000000         1.00000   \n",
      "75%         0.000000   4.0000   21.000000     881.000000         5.00000   \n",
      "max         4.000000  47.0000  131.000000    3130.000000        57.00000   \n",
      "\n",
      "       fastest_laps       races    seasons  \n",
      "count     21.000000   21.000000  21.000000  \n",
      "mean       7.000000   78.285714   4.238095  \n",
      "std       13.740451   51.007983   2.791142  \n",
      "min        0.000000   17.000000   1.000000  \n",
      "25%        0.000000   39.000000   2.000000  \n",
      "50%        1.000000   58.000000   3.000000  \n",
      "75%        4.000000  147.000000   8.000000  \n",
      "max       45.000000  147.000000   8.000000  \n"
     ]
    }
   ],
   "source": [
    "print(f1.describe())"
   ]
  },
  {
   "cell_type": "code",
   "execution_count": 23,
   "id": "c6577b5b-8e34-41fb-93da-7afc3202166a",
   "metadata": {},
   "outputs": [
    {
     "data": {
      "image/png": "[encoded data removed]",
      "text/plain": [
       "<Figure size 432x288 with 1 Axes>"
      ]
     },
     "metadata": {
      "needs_background": "light"
     },
     "output_type": "display_data"
    }
   ],
   "source": [
    "plt.barh(f1[\"team\"], f1[\"races\"])\n",
    "plt.show()"
   ]
  }
 ],
 "metadata": {
  "kernelspec": {
   "display_name": "Python 3 (ipykernel)",
   "language": "python",
   "name": "python3"
  },
  "language_info": {
   "codemirror_mode": {
    "name": "ipython",
    "version": 3
   },
   "file_extension": ".py",
   "mimetype": "text/x-python",
   "name": "python",
   "nbconvert_exporter": "python",
   "pygments_lexer": "ipython3",
   "version": "3.9.7"
  }
 },
 "nbformat": 4,
 "nbformat_minor": 5
}
